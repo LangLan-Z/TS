{
  "nbformat": 4,
  "nbformat_minor": 0,
  "metadata": {
    "colab": {
      "provenance": [],
      "include_colab_link": true
    },
    "kernelspec": {
      "name": "python3",
      "display_name": "Python 3"
    },
    "language_info": {
      "name": "python"
    }
  },
  "cells": [
    {
      "cell_type": "markdown",
      "metadata": {
        "id": "view-in-github",
        "colab_type": "text"
      },
      "source": [
        "<a href=\"https://colab.research.google.com/github/LangLan-Z/TS/blob/main/Copy_of_MLP3_1_Time_Series.ipynb\" target=\"_parent\"><img src=\"https://colab.research.google.com/assets/colab-badge.svg\" alt=\"Open In Colab\"/></a>"
      ]
    },
    {
      "cell_type": "code",
      "source": [
        "#Importing libraries\n",
        "import pandas as pd\n",
        "import seaborn as sns\n",
        "import matplotlib.pyplot as plt\n",
        "import itertools\n",
        "\n",
        "#Setting seaborn default theme\n",
        "sns.set()"
      ],
      "metadata": {
        "id": "DNyxspPsq0I7"
      },
      "execution_count": 1,
      "outputs": []
    },
    {
      "cell_type": "code",
      "source": [
        "from google.colab import drive\n",
        "drive.mount('/content/drive')"
      ],
      "metadata": {
        "id": "Aeor9nF3JngA"
      },
      "execution_count": null,
      "outputs": []
    },
    {
      "cell_type": "markdown",
      "source": [
        "#Time Series\n",
        "\n",
        "Time series forecasting is the use of a model to predict future values based on previously observed values. It can broadly be categorized into the following categories:\n",
        "\n",
        "*   Classical / Statistical Models — Moving Averages, Exponential Smoothing,\n",
        "ARIMA, SARIMA, TBATS\n",
        "*   Machine Learning — Linear Regression, XGBoost, Random Forest, or any ML model with reduction methods\n",
        "* Deep Learning — RNN, LSTM\n"
      ],
      "metadata": {
        "id": "md1CWfTn4Wmq"
      }
    },
    {
      "cell_type": "markdown",
      "source": [
        "Time series are widely used for non-stationary data, like economic, weather, stock price, and retail sales (which we will use in this assignment)."
      ],
      "metadata": {
        "id": "LLAZsfEdmwl7"
      }
    },
    {
      "cell_type": "markdown",
      "source": [
        "## Dataset\n",
        "We are using Superstore sales data that can be found in the [dataset-folder](https://drive.google.com/drive/folders/1QIgKvGSeltdzH6HMLlEM_ddYYObsrBO2?usp=sharing). Please download the dataset, and upload to your drive."
      ],
      "metadata": {
        "id": "MaQEEhDyJQj2"
      }
    },
    {
      "cell_type": "markdown",
      "source": [
        "There are several categories in the Superstore sales data, but we are going to use/predict the furniture sales."
      ],
      "metadata": {
        "id": "SJUWgyUgKTHH"
      }
    },
    {
      "cell_type": "code",
      "source": [
        "df = pd.read_excel(\"/content/drive/MyDrive/datasets/Sample - Superstore.xlsx\")\n",
        "furniture = df.loc[df['Category'] == 'Furniture']"
      ],
      "metadata": {
        "id": "vzdN50RfJuGn"
      },
      "execution_count": null,
      "outputs": []
    },
    {
      "cell_type": "code",
      "source": [
        "# Check the date-range\n",
        "furniture['Order Date'].min(), furniture['Order Date'].max()"
      ],
      "metadata": {
        "id": "dEtALHNcKd6e"
      },
      "execution_count": null,
      "outputs": []
    },
    {
      "cell_type": "markdown",
      "source": [
        "We see we have over 4 years of furniture sales data."
      ],
      "metadata": {
        "id": "1U9TO74eLDxX"
      }
    },
    {
      "cell_type": "code",
      "source": [
        "furniture.head()"
      ],
      "metadata": {
        "id": "PMryGFqOMScK"
      },
      "execution_count": null,
      "outputs": []
    },
    {
      "cell_type": "markdown",
      "source": [
        "## Data preprocessing"
      ],
      "metadata": {
        "id": "vOyG_L8GLOEn"
      }
    },
    {
      "cell_type": "markdown",
      "source": [
        "For the sake of training our first Time Series model, we are only going to use the date-column and the corresponding furniture sales. The other columns we will drop."
      ],
      "metadata": {
        "id": "1DYgsPm_LTqm"
      }
    },
    {
      "cell_type": "code",
      "source": [
        "furniture = furniture[['Order Date','Sales']].sort_values('Order Date')"
      ],
      "metadata": {
        "id": "zdQizbLBLCQ_"
      },
      "execution_count": null,
      "outputs": []
    },
    {
      "cell_type": "code",
      "source": [
        "# Check for missing values\n",
        "furniture.isnull().sum()"
      ],
      "metadata": {
        "id": "4TBPKYtkMh-X"
      },
      "execution_count": null,
      "outputs": []
    },
    {
      "cell_type": "code",
      "source": [
        "furniture.head(10)"
      ],
      "metadata": {
        "id": "VQc_ODJfM3cP"
      },
      "execution_count": null,
      "outputs": []
    },
    {
      "cell_type": "markdown",
      "source": [
        "We see we can have several sales on one date. We are only interested in the total sales on a given day, so we sum these values."
      ],
      "metadata": {
        "id": "fsouD9DFM-CQ"
      }
    },
    {
      "cell_type": "code",
      "source": [
        "furniture = furniture.groupby('Order Date')['Sales'].sum().reset_index()"
      ],
      "metadata": {
        "id": "CTUZLeP6LhF3"
      },
      "execution_count": null,
      "outputs": []
    },
    {
      "cell_type": "markdown",
      "source": [
        "Set the index to the date column:"
      ],
      "metadata": {
        "id": "c3zLaxmQLq9G"
      }
    },
    {
      "cell_type": "code",
      "source": [
        "furniture = furniture.set_index('Order Date')\n",
        "furniture.index"
      ],
      "metadata": {
        "id": "66Zg_OI6Loog"
      },
      "execution_count": null,
      "outputs": []
    },
    {
      "cell_type": "markdown",
      "source": [
        "## Visualising"
      ],
      "metadata": {
        "id": "RzWBlTUZNrS3"
      }
    },
    {
      "cell_type": "markdown",
      "source": [
        "Now that we have selected the right data and made sure it is in the right format, let's take a look at it by visualising it in a Matplotlib-plot."
      ],
      "metadata": {
        "id": "0DSa3oDKNwSm"
      }
    },
    {
      "cell_type": "code",
      "source": [
        "furniture.plot(figsize=(15, 6))\n",
        "plt.show()"
      ],
      "metadata": {
        "id": "lImYWBP6Ltff"
      },
      "execution_count": null,
      "outputs": []
    },
    {
      "cell_type": "markdown",
      "source": [
        "This looks complicated, since there are a lot of values, and no clear trend or seasonality.\n",
        "\n",
        "Instead of looking at the sales of each individual day, let's model the average daily sales of a month (using the start of each month as the timestamp)."
      ],
      "metadata": {
        "id": "4laAeRMZOHI5"
      }
    },
    {
      "cell_type": "code",
      "source": [
        "data = furniture['Sales'].resample('MS').mean()"
      ],
      "metadata": {
        "id": "HA9W0y1rNuTO"
      },
      "execution_count": null,
      "outputs": []
    },
    {
      "cell_type": "code",
      "source": [
        "# Plot result\n",
        "data.plot(figsize=(15, 6))\n",
        "plt.show()"
      ],
      "metadata": {
        "id": "PKOk2za9Opdg"
      },
      "execution_count": null,
      "outputs": []
    },
    {
      "cell_type": "markdown",
      "source": [
        "This already looks a lot cleaner, better suited for our first time creating a Time Series model."
      ],
      "metadata": {
        "id": "NlMeltDtOvFv"
      }
    },
    {
      "cell_type": "markdown",
      "source": [
        "When looking at the plot, we can already see some patterns. Such as sales are always low at the beginning of the year and higher at the end of the year.\n",
        "\n",
        "We can also visualize our data using a method called time-series decomposition that allows us to decompose our time series into three distinct components: trend, seasonality, and noise."
      ],
      "metadata": {
        "id": "MUJKzHw7O4cp"
      }
    },
    {
      "cell_type": "code",
      "source": [
        "from pylab import rcParams\n",
        "import statsmodels.api as sm\n",
        "\n",
        "rcParams['figure.figsize'] = 18, 8\n",
        "decomposition = sm.tsa.seasonal_decompose(data, model='additive')\n",
        "fig = decomposition.plot()\n",
        "plt.show()"
      ],
      "metadata": {
        "id": "gjZd6v9UOtv4"
      },
      "execution_count": null,
      "outputs": []
    },
    {
      "cell_type": "markdown",
      "source": [
        "We indeed see some seasonality patterns here, but no clear trend."
      ],
      "metadata": {
        "id": "oFgt4nttPiwp"
      }
    },
    {
      "cell_type": "markdown",
      "source": [
        "## Modeling - ARIMA"
      ],
      "metadata": {
        "id": "FnE9sh50PnoH"
      }
    },
    {
      "cell_type": "markdown",
      "source": [
        "We are going to apply one of the most commonly used method for time-series forecasting, known as ARIMA, which stands for Autoregressive Integrated Moving Average.\n",
        "\n",
        "Simplified, the different parts of the model do this:\n",
        "* Auto Regressive (AR) models are a specific type of regression model where, the dependent variable depends on past values of itself\n",
        "* Integrated (I)(though it has little to do with integration). It just means that, instead of predicting the time series itself we will predict the differences of the series from one time step to the next time step.\n",
        "* Moving Average (MA) models work by analysing how wrong you were in predicting values for the previous time-periods to make a better estimate for the current time-period.\n",
        "\n",
        "These three models work together to create the best possible model.\n",
        "\n",
        "They come together in ARIMA(p, d, q) where,\n",
        "* p = number of prior lag observations we include in the model (from AR part)\n",
        "* d = order of differencing, i.e. a single phase of differencing (from I part)\n",
        "* q = size of moving average window (from MA part)"
      ],
      "metadata": {
        "id": "lF341L1WPsK5"
      }
    },
    {
      "cell_type": "markdown",
      "source": [
        "### Training"
      ],
      "metadata": {
        "id": "tQxbSlheZ5DO"
      }
    },
    {
      "cell_type": "markdown",
      "source": [
        "We are going to set these parameters and train our furniture’s sales ARIMA Time Series Model.\n",
        "\n",
        "An additional parameter we will use is M, which brings a seasonal component to the model.\n",
        "M indicates the periodicity, i.e. the number of periods in season, such as 12 for monthly data (which is also a good number for our data, which has a clear pattern each year)."
      ],
      "metadata": {
        "id": "l3f1Xh9NZ-BP"
      }
    },
    {
      "cell_type": "markdown",
      "source": [
        "Let's take an order of 1 for the first three parameters: include 1 prior observation, difference over 1 prior observation and have a moving average window of 1 observation.\n",
        "For the seasonal order we will use the same parameters, only no moving average window, and use an M of 12.\n",
        "\n",
        "(NB: An ideal way of setting these parameters would be to do a grid-search.)"
      ],
      "metadata": {
        "id": "jC5u4xfJbo5I"
      }
    },
    {
      "cell_type": "code",
      "source": [
        "# Initialize the model\n",
        "mod = sm.tsa.statespace.SARIMAX(data,\n",
        "                                order=(1, 1, 1), #(p,d,q)\n",
        "                                seasonal_order=(1, 1, 0, 12)) #(p,d,q,M)"
      ],
      "metadata": {
        "id": "uU4l8sm7PZVg"
      },
      "execution_count": null,
      "outputs": []
    },
    {
      "cell_type": "code",
      "source": [
        "# Train the model\n",
        "results = mod.fit()"
      ],
      "metadata": {
        "id": "4fjFdd2pdX-g"
      },
      "execution_count": null,
      "outputs": []
    },
    {
      "cell_type": "markdown",
      "source": [
        "## Testing"
      ],
      "metadata": {
        "id": "4o_QGg9DfEbw"
      }
    },
    {
      "cell_type": "markdown",
      "source": [
        "To help us understand the accuracy of our forecasts, we compare predicted sales to the real sales of the time series. We set forecasts to start at 2017–01–01."
      ],
      "metadata": {
        "id": "p73BB1NpfIyP"
      }
    },
    {
      "cell_type": "code",
      "source": [
        "# Predict from 2017\n",
        "pred = results.get_prediction(start=pd.to_datetime('2017-01-01'), dynamic=False)\n",
        "pred_ci = pred.conf_int() #confidence interval\n",
        "\n",
        "# Create result-plot\n",
        "ax = data['2014':].plot(label='observed')\n",
        "pred.predicted_mean.plot(ax=ax, label='One-step ahead Forecast', alpha=.7, figsize=(14, 7))\n",
        "ax.fill_between(pred_ci.index,\n",
        "                pred_ci.iloc[:, 0],\n",
        "                pred_ci.iloc[:, 1], color='k', alpha=.2)\n",
        "ax.set_xlabel('Date')\n",
        "ax.set_ylabel('Furniture Sales')\n",
        "plt.legend()\n",
        "plt.show()"
      ],
      "metadata": {
        "id": "qlPP9qBpd1OD"
      },
      "execution_count": null,
      "outputs": []
    },
    {
      "cell_type": "markdown",
      "source": [
        "The line plot is showing the observed values compared to the rolling forecast predictions. Overall, our forecasts align with the true values quite well, showing the lower sales at the start of the year, and the higher sales at the end of the year."
      ],
      "metadata": {
        "id": "uKPRuBTeftLQ"
      }
    },
    {
      "cell_type": "markdown",
      "source": [
        "## Predicting"
      ],
      "metadata": {
        "id": "cSlJgmB0h7rp"
      }
    },
    {
      "cell_type": "markdown",
      "source": [
        "With our trained model, we can now predict beyond the scope of our data. This is easily done, using the .get_forecast() function, giving it the number of steps to forecast as a parameter."
      ],
      "metadata": {
        "id": "Saj3-02Hh9kY"
      }
    },
    {
      "cell_type": "code",
      "source": [
        "# Make predictions for next 100 steps\n",
        "pred = results.get_forecast(steps=100)\n",
        "pred_ci = pred.conf_int() #confidence interval"
      ],
      "metadata": {
        "id": "zfnvdLW7fpoL"
      },
      "execution_count": null,
      "outputs": []
    },
    {
      "cell_type": "code",
      "source": [
        "# Plot the predictions\n",
        "ax = data.plot(label='observed', figsize=(14, 7))\n",
        "pred.predicted_mean.plot(ax=ax, label='Forecast')\n",
        "ax.fill_between(pred_ci.index,\n",
        "                pred_ci.iloc[:, 0],\n",
        "                pred_ci.iloc[:, 1], color='k', alpha=.25)\n",
        "ax.set_xlabel('Date')\n",
        "ax.set_ylabel('Furniture Sales')\n",
        "plt.legend()\n",
        "plt.show()"
      ],
      "metadata": {
        "id": "0Fy7qoIhidgT"
      },
      "execution_count": null,
      "outputs": []
    },
    {
      "cell_type": "markdown",
      "source": [
        "We clearly see the furniture sales seasonality. And as we get further into the future, the model becomes less confident of it's predictions (see the grey area of the confidence intervals)."
      ],
      "metadata": {
        "id": "SQ31W9xWiopY"
      }
    },
    {
      "cell_type": "markdown",
      "source": [
        "## Assignment 3.1"
      ],
      "metadata": {
        "id": "K2hhAOonjoeo"
      }
    },
    {
      "cell_type": "markdown",
      "source": [
        "**Question 1**\n",
        "\n",
        "Now try it yourself, using the same dataset, but selecting another sales category, like 'Office Supplies'.\n",
        "\n",
        "*   Check the data for missing values, and aggregate if necessary\n",
        "*   Explore the data\n",
        "*   You might also want to use daily average sales\n",
        "*   Train and test your model\n",
        "*   Predict future values and visualize the results\n",
        "\n"
      ],
      "metadata": {
        "id": "WhZw3_vLj8eS"
      }
    },
    {
      "cell_type": "code",
      "source": [],
      "metadata": {
        "id": "1rZWpuB5ih8k"
      },
      "execution_count": null,
      "outputs": []
    }
  ]
}