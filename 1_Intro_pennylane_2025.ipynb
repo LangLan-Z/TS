{
  "cells": [
    {
      "cell_type": "markdown",
      "metadata": {
        "id": "view-in-github",
        "colab_type": "text"
      },
      "source": [
        "<a href=\"https://colab.research.google.com/github/LangLan-Z/TS/blob/main/1_Intro_pennylane_2025.ipynb\" target=\"_parent\"><img src=\"https://colab.research.google.com/assets/colab-badge.svg\" alt=\"Open In Colab\"/></a>"
      ]
    },
    {
      "cell_type": "code",
      "execution_count": null,
      "metadata": {
        "colab": {
          "base_uri": "https://localhost:8080/"
        },
        "id": "jGJ6DGia3cpW",
        "outputId": "f27f1105-e13a-4461-e8bf-b78d4eccf5de"
      },
      "outputs": [
        {
          "output_type": "stream",
          "name": "stdout",
          "text": [
            "installing Pennylane...\n",
            "\u001b[2K     \u001b[90m━━━━━━━━━━━━━━━━━━━━━━━━━━━━━━━━━━━━━━━━\u001b[0m \u001b[32m56.1/56.1 kB\u001b[0m \u001b[31m2.6 MB/s\u001b[0m eta \u001b[36m0:00:00\u001b[0m\n",
            "\u001b[2K   \u001b[90m━━━━━━━━━━━━━━━━━━━━━━━━━━━━━━━━━━━━━━━━\u001b[0m \u001b[32m2.0/2.0 MB\u001b[0m \u001b[31m7.5 MB/s\u001b[0m eta \u001b[36m0:00:00\u001b[0m\n",
            "\u001b[2K   \u001b[90m━━━━━━━━━━━━━━━━━━━━━━━━━━━━━━━━━━━━━━━━\u001b[0m \u001b[32m930.0/930.0 kB\u001b[0m \u001b[31m5.4 MB/s\u001b[0m eta \u001b[36m0:00:00\u001b[0m\n",
            "\u001b[2K   \u001b[90m━━━━━━━━━━━━━━━━━━━━━━━━━━━━━━━━━━━━━━━━\u001b[0m \u001b[32m2.4/2.4 MB\u001b[0m \u001b[31m14.0 MB/s\u001b[0m eta \u001b[36m0:00:00\u001b[0m\n",
            "\u001b[2K   \u001b[90m━━━━━━━━━━━━━━━━━━━━━━━━━━━━━━━━━━━━━━━━\u001b[0m \u001b[32m2.1/2.1 MB\u001b[0m \u001b[31m11.8 MB/s\u001b[0m eta \u001b[36m0:00:00\u001b[0m\n",
            "\u001b[2K   \u001b[90m━━━━━━━━━━━━━━━━━━━━━━━━━━━━━━━━━━━━━━━━\u001b[0m \u001b[32m167.9/167.9 kB\u001b[0m \u001b[31m10.0 MB/s\u001b[0m eta \u001b[36m0:00:00\u001b[0m\n",
            "\u001b[2K   \u001b[90m━━━━━━━━━━━━━━━━━━━━━━━━━━━━━━━━━━━━━━━━\u001b[0m \u001b[32m8.6/8.6 MB\u001b[0m \u001b[31m19.0 MB/s\u001b[0m eta \u001b[36m0:00:00\u001b[0m\n",
            "\u001b[?25hinstalled Pennylane.\n",
            "Pennylane version: 0.40.0\n"
          ]
        }
      ],
      "source": [
        "# Install Pennylane for use in google Colab\n",
        "try:\n",
        "    import pennylane as qml\n",
        "except ImportError:\n",
        "    print(\"installing Pennylane...\")\n",
        "    !pip install --quiet pennylane\n",
        "    print(\"installed Pennylane.\")\n",
        "    import pennylane as qml\n",
        "print(\"Pennylane version:\", qml.__version__)\n",
        "\n",
        "import pennylane as qml\n",
        "import numpy as np"
      ]
    },
    {
      "cell_type": "markdown",
      "metadata": {
        "id": "eSutwq2-EDj1"
      },
      "source": [
        "# Tutorial 1: Introduction to Pennylane"
      ]
    },
    {
      "cell_type": "markdown",
      "metadata": {
        "colab_type": "toc",
        "id": "AkIlrtn-3FTv"
      },
      "source": [
        ">[Designing and simulating quantum circuits with Pennylane](#designing-and-simulating-quantum-circuits-with-pennylane)\n",
        "\n",
        ">[Making a circuit](#making-a-circuit)\n",
        "\n",
        ">>[Quantum functions](#quantum-functions)\n",
        "\n",
        ">>[Devices](#devices)\n",
        "\n",
        ">>[QNode](#qnodes)\n",
        "\n",
        ">[Operations](#operations)\n",
        "\n",
        ">>[Gates](#gates)\n",
        "\n",
        ">>[Measurements](#measurements)\n",
        "\n",
        ">[Parametrizing a quantum circuit](#parametrizing-a-quantum-circuit)\n",
        "\n",
        ">>[Declaring a parametrized circuit as a function](#declaring-a-parametrized-circuit-as-a-function)\n",
        "\n",
        ">>[Visualizing the parametrized circuit](#visualizing-the-parametrized-circuit)\n",
        "\n",
        ">>[Circuits as functions](#circuits-as-functions)\n",
        "\n",
        ">>[Sweeps](#sweeps)\n",
        "\n",
        ">[Quantum teleportation](#quantum-teleportation)\n",
        "\n"
      ]
    },
    {
      "cell_type": "markdown",
      "metadata": {
        "id": "m99GPQbv1xx1"
      },
      "source": [
        "# Designing and simulating quantum circuits with Pennylane\n",
        "In this tutorial we will learn the basics of quantum simulation using Xanadu's Pennylane package.\n",
        "To install Pennylane on your computer, please see the instructions at https://pennylane.ai/install\n",
        "If you're running this in Google COLAB, run the first cell of the notebook (above) to install Pennylane.\n",
        "\n",
        "Today a large amount of high-quality resources are available on the Pennylane website https://pennylane.ai/.\n",
        "This tutorials are tailored towards the course, and are adapted each year -- but the tutorials and the documentation on Pennylane website are invaluable. This is also true for OpenFermion, or any other package you might want to use...\n",
        "**Please learn to read the docs!!**\n",
        "\n",
        "Today's tutorial also takes some inspiration from the Pennylane basics tutorial (https://docs.pennylane.ai/en/stable/, and https://pennylane.ai/codebook)\n"
      ]
    },
    {
      "cell_type": "markdown",
      "metadata": {
        "id": "hUmiJ9Xfd6Zy"
      },
      "source": [
        "# Making a circuit\n",
        "## Quantum functions\n",
        "\n",
        "A quantum circuit can be represented as a quantum function in Pennylane. It is a Python function that contains a list of gates that may depend on some parameters and act on some wires, i.e. qubits.\n",
        "In PennyLane, all wires are initialized in the state $|0\\rangle$.\n",
        "Let us build our first quantum circuit with PennyLane."
      ]
    },
    {
      "cell_type": "code",
      "execution_count": null,
      "metadata": {
        "id": "uCQhBhq6d6Zy"
      },
      "outputs": [],
      "source": [
        "def my_first_quantum_function(theta):\n",
        "    qml.RX(theta, wires = 0)\n",
        "    qml.PauliY(wires = 1)\n",
        "    qml.Hadamard(wires = 0)\n",
        "    qml.Hadamard(wires = 1)"
      ]
    },
    {
      "cell_type": "markdown",
      "metadata": {
        "id": "koUhLob6d6Zy"
      },
      "source": [
        "In this function, we make use of the Rotation gate `qml.RX` which depends on a rotation angle parameter theta, the Pauli-Y gate `qml.PauliY` and the Hadamard gates `qml.Hadamard`.\n",
        "The wires or qubits are labelled by integers 0, 1, 2, etc., counting from 0 in the Pythonic way.\n",
        "Thus, the circuit above has two qubits, labelled 0 and 1. We can draw this circuit as follows,"
      ]
    },
    {
      "cell_type": "code",
      "execution_count": null,
      "metadata": {
        "colab": {
          "base_uri": "https://localhost:8080/",
          "height": 354
        },
        "id": "5xtzptqSd6Zz",
        "outputId": "9f1da0af-51a0-4fbe-94a9-2f882c76faac"
      },
      "outputs": [
        {
          "output_type": "execute_result",
          "data": {
            "text/plain": [
              "(<Figure size 500x300 with 1 Axes>, <Axes: >)"
            ]
          },
          "metadata": {},
          "execution_count": 3
        },
        {
          "output_type": "display_data",
          "data": {
            "text/plain": [
              "<Figure size 500x300 with 1 Axes>"
            ],
            "image/png": "[encoded data removed]"
          },
          "metadata": {}
        }
      ],
      "source": [
        "qml.drawer.use_style(\"black_white\")\n",
        "qml.drawer.draw_mpl(my_first_quantum_function)(theta=0)"
      ]
    },
    {
      "cell_type": "markdown",
      "metadata": {
        "id": "1DsA4Zyrd6Zz"
      },
      "source": [
        "Note that if you run this function, you will not get any answer. This makes sense, since we didn't return anything. But even adding a return statement isn't enough. Let's see what we need to do in the next section."
      ]
    },
    {
      "cell_type": "markdown",
      "metadata": {
        "id": "0OaBnsju1xx7"
      },
      "source": [
        "## Devices\n",
        "To run `my_first_quantum_function`, we need to return something. One of the return types that PennyLane accepts is `qml.state()`, which returns a complex `np.array` that represents the quantum state after all the gates have been applied. Let's add this to our quantum function."
      ]
    },
    {
      "cell_type": "code",
      "execution_count": null,
      "metadata": {
        "colab": {
          "base_uri": "https://localhost:8080/"
        },
        "id": "40tnksqXd6Zz",
        "outputId": "e797daf4-6a53-4e02-986e-da9ff9e738bd"
      },
      "outputs": [
        {
          "output_type": "execute_result",
          "data": {
            "text/plain": [
              "state(wires=[])"
            ]
          },
          "metadata": {},
          "execution_count": 4
        }
      ],
      "source": [
        "def my_first_quantum_function(theta):\n",
        "    qml.RX(theta, wires = 0)\n",
        "    qml.PauliY(wires = 1)\n",
        "    qml.Hadamard(wires = 0)\n",
        "    qml.Hadamard(wires = 1)\n",
        "\n",
        "    return qml.state()\n",
        "\n",
        "my_first_quantum_function(theta=0.1)"
      ]
    },
    {
      "cell_type": "markdown",
      "metadata": {
        "id": "SH4yAH3yd6Zz"
      },
      "source": [
        "You may already find that nothing happens again after running the block above.\n",
        "The reason is that, in PennyLane, we need to specify a **device** on which the quantum circuit will run.\n",
        "PennyLane offers some basic devices simulators, but we will focus on the following three:\n",
        "*   `default.qubit`: The default quantum device for circuits without noise. It is not optimized for performance, but it's the first one to be upgraded and will have the most advanced features at any point in time.\n",
        "*   `lightning.qubit`: A fast noiseless qubit device. It is optimized for performance via a C++ backend, but its development will often lag a bit behind default.qubit.\n",
        "*   `default.mixed`: A qubit device that allows noisy gates. It works with the density operator representation of quantum states.\n",
        "*   \n",
        "We will work with default.qubit unless we say otherwise. For larger circuits with many qubits, working with `lightning.qubit` is highly recommended. Let's define the device using `qml.device`."
      ]
    },
    {
      "cell_type": "code",
      "execution_count": null,
      "metadata": {
        "id": "Lwjtqh84d6Zz"
      },
      "outputs": [],
      "source": [
        "dev = qml.device(\"default.qubit\", wires = 2)"
      ]
    },
    {
      "cell_type": "markdown",
      "metadata": {
        "id": "bmK5Iv9_d6Zz"
      },
      "source": [
        "The `wires` argument specifies the number of wires. In the `default.qubit` device, the `wires` argument is optional, since the backend can read our circuit and figure out the number of wires. Now all that is left is to tell PennyLane that we want to use this device `dev` for our quantum function."
      ]
    },
    {
      "cell_type": "markdown",
      "metadata": {
        "id": "w0hnIVsAd6Zz"
      },
      "source": [
        "## QNodes\n",
        "\n",
        "**The pairing of a quantum circuit with a device is called a QNode**, which wraps the quantum function and binds it to the device.\n",
        "There are two ways associate a quantum circuit with a device:\n",
        "\n",
        "* Explicitly create a QNode with `qml.QNode()`;\n",
        "* Use the `@qml.qnode` decorator.\n",
        "\n",
        "For the first way, a QNode can be explicitly created as follows:"
      ]
    },
    {
      "cell_type": "code",
      "execution_count": null,
      "metadata": {
        "id": "lnQfi7aVd6Z0"
      },
      "outputs": [],
      "source": [
        "circuit = qml.QNode(my_first_quantum_function, dev)"
      ]
    },
    {
      "cell_type": "markdown",
      "metadata": {
        "id": "eE3mdvgvd6Z0"
      },
      "source": [
        "The QNode can be used to compute the result of a quantum circuit as if it was a standard Python function. It takes the same arguments as the original quantum function:"
      ]
    },
    {
      "cell_type": "code",
      "execution_count": null,
      "metadata": {
        "colab": {
          "base_uri": "https://localhost:8080/"
        },
        "id": "4CSJEPMtd6Z0",
        "outputId": "4e56eb81-c1a1-4028-c871-fed4a07057c0"
      },
      "outputs": [
        {
          "output_type": "execute_result",
          "data": {
            "text/plain": [
              "array([ 0.02498958+0.49937513j, -0.02498958-0.49937513j,\n",
              "       -0.02498958+0.49937513j,  0.02498958-0.49937513j])"
            ]
          },
          "metadata": {},
          "execution_count": 7
        }
      ],
      "source": [
        "circuit(theta=0.1)"
      ]
    },
    {
      "cell_type": "markdown",
      "metadata": {
        "id": "4lAvwFIjd6Z0"
      },
      "source": [
        "**The** second way, using QNode decorator, is more convenient—and in fact the recommended—way for creating QNodes. This decorator converts a Python function containing PennyLane quantum operations to a QNode circuit that will run on a quantum device. To do this, we place `@qml.qnode` on top of the definition of our quantum function as follows."
      ]
    },
    {
      "cell_type": "code",
      "execution_count": null,
      "metadata": {
        "id": "FwIdV0o6d6Z0"
      },
      "outputs": [],
      "source": [
        "dev = qml.device(\"default.qubit\", wires = 2)\n",
        "\n",
        "@qml.qnode(dev)\n",
        "def my_first_quantum_function(theta):\n",
        "    qml.RX(theta, wires = 0)\n",
        "    qml.PauliY(wires = 1)\n",
        "    qml.Hadamard(wires = 0)\n",
        "    qml.Hadamard(wires = 1)\n",
        "\n",
        "    return qml.state()\n"
      ]
    },
    {
      "cell_type": "markdown",
      "metadata": {
        "id": "K4F1WStad6Z0"
      },
      "source": [
        "The decorator `@qml.qnode` effectively creates a QNode called `my_first_quantum_function`. We note that the decorator completely replaces the Python-based quantum function with a QNode of the same name —- as such, the original function is no longer accessible.\n",
        "\n",
        "Running the QNode will give the output state. For example:\n"
      ]
    },
    {
      "cell_type": "code",
      "execution_count": null,
      "metadata": {
        "colab": {
          "base_uri": "https://localhost:8080/"
        },
        "id": "CBikhndud6Z1",
        "outputId": "1efcaabf-52d4-49d7-cc18-5285aac48636"
      },
      "outputs": [
        {
          "output_type": "execute_result",
          "data": {
            "text/plain": [
              "array([ 0.19134172+0.46193977j, -0.19134172-0.46193977j,\n",
              "       -0.19134172+0.46193977j,  0.19134172-0.46193977j])"
            ]
          },
          "metadata": {},
          "execution_count": 9
        }
      ],
      "source": [
        "my_first_quantum_function(np.pi/4)"
      ]
    },
    {
      "cell_type": "markdown",
      "metadata": {
        "id": "zyIDGyy61xx9"
      },
      "source": [
        "# Operations\n",
        "To make a quantum function with Pennylane (quantum circuit), we need to add some operations. Operations are either measurements or gates.\n",
        "\n",
        "## Gates\n",
        "A wide range of choices for quantum gates including non-parameterized and parameterized quantum operators exist in Pennylane (see https://docs.pennylane.ai/en/stable/introduction/operations.html).\n",
        "Moreover, one can also define and customize their own unitary gates with `qml.QubitUnitary` and `qml.ControlledQubitUnitary`.\n",
        "\n",
        "**Exercise 0:** Construct the circuit shown below and returns the quantum state. And draw the circuit with $\\theta=\\phi=\\pi$.\n",
        "\n",
        "![image.png](attachment:image.png)"
      ]
    },
    {
      "cell_type": "code",
      "execution_count": null,
      "metadata": {
        "colab": {
          "base_uri": "https://localhost:8080/",
          "height": 453
        },
        "id": "PkhK4u61d6Z1",
        "outputId": "f2d8c49e-0217-461a-cdd4-39ca6af44017"
      },
      "outputs": [
        {
          "output_type": "execute_result",
          "data": {
            "text/plain": [
              "(<Figure size 900x400 with 1 Axes>, <Axes: >)"
            ]
          },
          "metadata": {},
          "execution_count": 2
        },
        {
          "output_type": "display_data",
          "data": {
            "text/plain": [
              "<Figure size 900x400 with 1 Axes>"
            ],
            "image/png": "[encoded data removed]"
          },
          "metadata": {}
        }
      ],
      "source": [
        "### Insert your code here!\n",
        "\n",
        "dev = qml.device(\"default.qubit\", wires = 3)\n",
        "\n",
        "@qml.qnode(dev)\n",
        "def multi_qubit_gates(theta,phi):\n",
        "    qml.Hadamard(wires=0)\n",
        "    qml.CRY(phi, wires=[0,1])\n",
        "    qml.CRX(theta, wires=[1,2])\n",
        "    qml.S(wires=1)\n",
        "    qml.T(wires=2)\n",
        "    qml.Toffoli(wires=[0,1,2])\n",
        "    qml.SWAP(wires=[0,2])\n",
        "\n",
        "    return qml.state()\n",
        "\n",
        "qml.drawer.use_style(\"black_white\")\n",
        "qml.drawer.draw_mpl(multi_qubit_gates)(theta=np.pi, phi=np.pi)"
      ]
    },
    {
      "cell_type": "markdown",
      "metadata": {
        "id": "c04h8brXd6Z1"
      },
      "source": [
        "## Measurements\n",
        "\n",
        "Measurements in PennyLane are special. They’re flexible, allowing you to perform measurements on simulators or actual quantum hardware–and they’re varied, allowing you to customize your quantum algorithms to your specific needs. Let’s look into different PennyLane measurements and how you can use them to your advantage.\n",
        "\n",
        "In PennyLane, we implement measurement as follows:"
      ]
    },
    {
      "cell_type": "code",
      "execution_count": null,
      "metadata": {
        "id": "qB-M9mzrd6Z1"
      },
      "outputs": [],
      "source": [
        "dev = qml.device(\"default.qubit\", wires = 2, shots =1)\n",
        "\n",
        "@qml.qnode(dev)\n",
        "def simple_circuit():\n",
        "    qml.PauliX(1)\n",
        "    return my_measurement # Replace with a PennyLane measurement"
      ]
    },
    {
      "cell_type": "markdown",
      "metadata": {
        "id": "89qbzUjPd6Z1"
      },
      "source": [
        "One could put one of the following Pennylane measurement in place of `my_measurement` in the block above.\n",
        "*  `qml.sample()`: **For drawing samples** When running experiments on quantum device we often take samples. We specify a number of shots which indicates how many times we run the circuit and hence how many samples we obtain.\n",
        "*  `qml.counts()`: **For taking counts** However, sometimes we have hundreds or thousands of shots, and we are likely only interested in the number of occurrences (or counts) for each possible measurement outcome. In this situation, use this.\n",
        "*  `qml.probs()`: **For calculating probability distribution** Although we can obtain the probabilities of a specific observable with samples and counts, sometimes one need the exact measurement outcome probability distribution and in this case one can use this to calculate probabilities analytically.\n",
        "*  `qml.expval()`: **For calculating expectation values** Expectation values are probably the most used type of measurement, especially for optimization and machine learning since they give useful information about the state and they’re differentiable.\n",
        "\n",
        "For more details about Pennylane measurement, please see https://docs.pennylane.ai/en/stable/introduction/measurements.html."
      ]
    },
    {
      "cell_type": "markdown",
      "metadata": {
        "id": "BNrM11ln1xyA"
      },
      "source": [
        "**Exercise 1:** Create a circuit on two qubits in a linear array that flips qubit 0 and not qubit 1, and then try to measure them both with `qml.sample()`, `qml.counts()`, and `qml.probs()`.\n",
        "\n",
        "What measurement outcome do you expect?\n",
        "\n",
        "Simulate the circuit and see if the results match your expectations.\n",
        "\n",
        "*Tip:* You might find the gate `qml.X` or `qml.PauliX` useful."
      ]
    },
    {
      "cell_type": "code",
      "execution_count": null,
      "metadata": {
        "ExecuteTime": {
          "end_time": "2020-04-11T16:48:15.404550Z",
          "start_time": "2020-04-11T16:48:15.401233Z"
        },
        "colab": {
          "base_uri": "https://localhost:8080/"
        },
        "id": "Rht4WuiQ1xyB",
        "outputId": "ed6c1934-5de0-4634-fd30-cd34a452e374"
      },
      "outputs": [
        {
          "output_type": "execute_result",
          "data": {
            "text/plain": [
              "{'01': array(10)}"
            ]
          },
          "metadata": {},
          "execution_count": 5
        }
      ],
      "source": [
        "dev = qml.device(\"default.qubit\", wires = 2, shots =10)\n",
        "\n",
        "@qml.qnode(dev)\n",
        "def simple_circuit():\n",
        "    qml.PauliX(1)\n",
        "    return qml.counts()\n",
        "\n",
        "simple_circuit()"
      ]
    },
    {
      "cell_type": "markdown",
      "metadata": {
        "id": "jykpenfK1xyB"
      },
      "source": [
        "**Exercise 2:** Create a circuit to prepare $|+\\rangle^{\\otimes 2}$, and then try to measure the expectation value of operator $X_0\\otimes X_1$ and $Z_0\\otimes Z_1$ using `qml.expval()`."
      ]
    },
    {
      "cell_type": "code",
      "execution_count": null,
      "metadata": {
        "ExecuteTime": {
          "end_time": "2020-04-11T16:48:15.408880Z",
          "start_time": "2020-04-11T16:48:15.406738Z"
        },
        "colab": {
          "base_uri": "https://localhost:8080/"
        },
        "id": "XB0X_gXF1xyB",
        "outputId": "73c72537-4f8c-4920-a48d-fff7094269b2"
      },
      "outputs": [
        {
          "output_type": "execute_result",
          "data": {
            "text/plain": [
              "(array(1.), array(0.))"
            ]
          },
          "metadata": {},
          "execution_count": 11
        }
      ],
      "source": [
        "### Insert your code here!\n",
        "\n",
        "dev = qml.device(\"default.qubit\", wires = 2)\n",
        "\n",
        "@qml.qnode(dev)\n",
        "def circuit_expval():\n",
        "    qml.Hadamard(wires=0)\n",
        "    qml.Hadamard(wires=1)\n",
        "    return qml.expval(qml.PauliX(0)@qml.PauliX(1)), qml.expval(qml.PauliZ(0)@qml.PauliZ(1))\n",
        "\n",
        "circuit_expval()"
      ]
    },
    {
      "cell_type": "markdown",
      "metadata": {
        "id": "qdt8oXUQ1xyC"
      },
      "source": [
        "**Exercise 3:** Construct a circuit for preparing one of the Bell state $\\frac{1}{\\sqrt{2}}\\left(|00\\rangle+|11\\rangle\\right)$. Measure each qubit in the computational basis for 100 shots, and return the counts of 0 and 1 for each qubit respectively."
      ]
    },
    {
      "cell_type": "code",
      "execution_count": null,
      "metadata": {
        "colab": {
          "base_uri": "https://localhost:8080/"
        },
        "id": "wj2I-kHTd6Z2",
        "outputId": "c493ac27-da00-47a0-e775-b15d4f5e02e5"
      },
      "outputs": [
        {
          "output_type": "execute_result",
          "data": {
            "text/plain": [
              "({'0': array(42), '1': array(58)}, {'0': array(42), '1': array(58)})"
            ]
          },
          "metadata": {},
          "execution_count": 16
        }
      ],
      "source": [
        "### Insert your code here!\n",
        "\n",
        "dev = qml.device(\"default.qubit\", wires = 2, shots=100)\n",
        "\n",
        "@qml.qnode(dev)\n",
        "def circuit_bell():\n",
        "    qml.Hadamard(wires=0)\n",
        "    qml.CNOT(wires=[0,1])\n",
        "    return qml.counts(wires=0), qml.counts(wires=1)\n",
        "\n",
        "circuit_expval()\n"
      ]
    },
    {
      "cell_type": "markdown",
      "metadata": {
        "id": "R4xAt5rI1xyC"
      },
      "source": [
        "The above works, but the correlation information that characterise the Bell state is no longer present in the counts, as we do not see whether each 0 from the first wire corresponds to a 0 in the second. However, Pennylane does store this information. To recover it, we can use `qml.counts()` to see that there is no instances of '01' or '10' (Replace the measurement with `qml.counts()` in the circuit above)."
      ]
    },
    {
      "cell_type": "code",
      "execution_count": null,
      "metadata": {
        "ExecuteTime": {
          "end_time": "2020-04-11T16:48:15.701271Z",
          "start_time": "2020-04-11T16:48:12.476Z"
        },
        "colab": {
          "base_uri": "https://localhost:8080/"
        },
        "id": "4SBiENM11xyD",
        "outputId": "50f5af97-ce25-4c75-e417-cab7b50c9daf"
      },
      "outputs": [
        {
          "output_type": "execute_result",
          "data": {
            "text/plain": [
              "{'00': array(41), '11': array(59)}"
            ]
          },
          "metadata": {},
          "execution_count": 17
        }
      ],
      "source": [
        "### Insert your code here!\n",
        "\n",
        "dev = qml.device(\"default.qubit\", wires = 2, shots=100)\n",
        "\n",
        "@qml.qnode(dev)\n",
        "def circuit_bell():\n",
        "    qml.Hadamard(wires=0)\n",
        "    qml.CNOT(wires=[0,1])\n",
        "    return qml.counts()\n",
        "\n",
        "circuit_expval()"
      ]
    },
    {
      "cell_type": "markdown",
      "metadata": {
        "id": "o99Lvr1Kd6Z2"
      },
      "source": [
        "In Pennylane, we can also do the same with an observable specified. Try to measure $X_0 \\otimes X_1$ using `qml.PauliX` like before, we expect all outcomes to be 1, which indeed happens."
      ]
    },
    {
      "cell_type": "code",
      "execution_count": null,
      "metadata": {
        "colab": {
          "base_uri": "https://localhost:8080/"
        },
        "id": "-nye8qEGd6Z3",
        "outputId": "0192c38f-3082-4a7c-8449-4bcdc0656ae2"
      },
      "outputs": [
        {
          "output_type": "execute_result",
          "data": {
            "text/plain": [
              "{1.0: array(100)}"
            ]
          },
          "metadata": {},
          "execution_count": 33
        }
      ],
      "source": [
        "### Insert your code here!\n",
        "\n",
        "dev = qml.device(\"default.qubit\", wires = 2, shots=100)\n",
        "\n",
        "@qml.qnode(dev)\n",
        "def circuit_bell():\n",
        "    qml.Hadamard(wires=0)\n",
        "    qml.CNOT(wires=[0,1])\n",
        "    return qml.expval(qml.counts(qml.PauliX(0)@qml.PauliX(1)))\n"
      ]
    },
    {
      "cell_type": "markdown",
      "metadata": {
        "id": "Bc5gC4e71xyD"
      },
      "source": [
        "In Pennylane, we can also return the quantum state in the computational basis using `qml.state()`. Try to return `qml.state()` using the same circuit as before. The returned array is in lexicographic order.\n",
        "\n",
        "Recall that in the computational basis, the Bell state takes the form $\\frac{1}{\\sqrt{2}}\\left(|00\\rangle+|11\\rangle\\right)$."
      ]
    },
    {
      "cell_type": "code",
      "execution_count": null,
      "metadata": {
        "ExecuteTime": {
          "end_time": "2020-04-11T16:48:15.703937Z",
          "start_time": "2020-04-11T16:48:12.481Z"
        },
        "colab": {
          "base_uri": "https://localhost:8080/"
        },
        "id": "xTptzmlO1xyE",
        "outputId": "db635d9d-a9b7-4c0d-ca49-7d71a2124b45"
      },
      "outputs": [
        {
          "output_type": "execute_result",
          "data": {
            "text/plain": [
              "array([0.70710678+0.j, 0.        +0.j, 0.        +0.j, 0.70710678+0.j])"
            ]
          },
          "metadata": {},
          "execution_count": 18
        }
      ],
      "source": [
        "dev = qml.device(\"default.qubit\", wires = 2)\n",
        "\n",
        "@qml.qnode(dev)\n",
        "def circuit_bell():\n",
        "    qml.Hadamard(wires=0)\n",
        "    qml.CNOT(wires=[0,1])\n",
        "    return qml.state()\n",
        "\n",
        "circuit_bell()"
      ]
    },
    {
      "cell_type": "markdown",
      "metadata": {
        "id": "pYc4wT101xyE"
      },
      "source": [
        "# Parametrizing a quantum circuit\n",
        "In order to prove that our Bell state is a Bell state without cheating, we need to perform measurement in multiple bases. This is a great time to investigate parametrized quantum circuits.\n",
        "\n",
        "A parametrized quantum circuit is one where one or more gates have free variables to be specified at run-time. This allows for a classical script to treat the call to a quantum computer as a black box with free input variables, and, for instance, optimize over the output. This is a key idea in NISQ algorithms, which you will encounter next week in the lecture and tutorial.\n",
        "\n",
        "## Declaring a parametrized circuit as a function\n",
        "\n",
        "To construct our parametrized circuit, we will define a quantum function which takes the parameters as an input, and returns the desired cost function.\n",
        "We will construct a parametrized circuit that allows to measure the second qubit of the bell state we prepared above in an arbitrary basis (on the ZX plane), while the first one is always measured in the Z basis.\n",
        "\n",
        "The gate that we are going to parameterize is a Y rotation on qubit 1\n",
        "$$R_y(\\theta) = e^{-i\\theta/2 Y_0}=\\left(\\begin{array}{cc}\\cos(\\theta/2) & -\\sin(\\theta/2)\\\\ \\sin(\\theta/2) &\\cos(\\theta/2)\\end{array} \\right). $$\n",
        "This rotates between the X and Z axis on qubit 1 as $\\theta$ runs from $0\\rightarrow\\pi$, which means that at a measurement of the state $R_y(\\theta)|\\Psi\\rangle$ in the Z (computational) basis is equivalent to a measurement of $|\\Psi\\rangle$ in the $\\cos(\\theta/2) Z - \\sin(\\theta/2) X$ basis. In most physical implementations of quantum devices, direct measurement along more than 1 axis is not possible, but the above is very cost-effective to implement.\n",
        "\n",
        "Note that in the code below, we have to make not one, but two calls to generate the rotation gate. The first call fixes the angle to our parameter, whilst the second fixes which qubits the gate acts upon."
      ]
    },
    {
      "cell_type": "code",
      "execution_count": null,
      "metadata": {
        "id": "-4UNcA35d6Z4"
      },
      "outputs": [],
      "source": [
        "dev = qml.device(\"default.qubit\", wires = 2, shots=100)\n",
        "\n",
        "@qml.qnode(dev)\n",
        "def circuit_bell_pqc(theta):\n",
        "    qml.Hadamard(wires=0)\n",
        "    qml.CNOT(wires=[0,1])\n",
        "    qml.RY(theta, wires=1)\n",
        "    return qml.counts()"
      ]
    },
    {
      "cell_type": "markdown",
      "metadata": {
        "id": "rpfEPa-7MIkt"
      },
      "source": [
        "## Visualizing the parametrized circuit\n",
        "\n",
        "To visualize your circuit with Pennylane, we can define a *drawer* using `qml.draw()`. This module provides the circuit drawing functionality used to display circuits visually. For more information, check https://docs.pennylane.ai/en/stable/code/qml_drawer.html."
      ]
    },
    {
      "cell_type": "code",
      "execution_count": null,
      "metadata": {
        "colab": {
          "base_uri": "https://localhost:8080/",
          "height": 354
        },
        "id": "plZ5RfqFd6Z4",
        "outputId": "8e3f1d6d-34a3-49cb-dcd0-282194e88a67"
      },
      "outputs": [
        {
          "output_type": "execute_result",
          "data": {
            "text/plain": [
              "(<Figure size 600x300 with 1 Axes>, <Axes: >)"
            ]
          },
          "metadata": {},
          "execution_count": 19
        },
        {
          "output_type": "display_data",
          "data": {
            "text/plain": [
              "<Figure size 600x300 with 1 Axes>"
            ],
            "image/png": "[encoded data removed]"
          },
          "metadata": {}
        }
      ],
      "source": [
        "qml.drawer.use_style(\"black_white\")\n",
        "qml.drawer.draw_mpl(circuit_bell_pqc, decimals=1)(0.5)"
      ]
    },
    {
      "cell_type": "markdown",
      "metadata": {
        "id": "IL5c4hN4d6Z4"
      },
      "source": [
        "## Circuits as functions\n",
        "\n",
        "In Pennylane, quantum circuits are used as mathematical models, or functions. This means we can get creative and do anything with quantum circuit we can usually only do with functions. Having defined the parametrized circuit as a function, we can directly call the function with a numeric parameter value."
      ]
    },
    {
      "cell_type": "code",
      "execution_count": null,
      "metadata": {
        "colab": {
          "base_uri": "https://localhost:8080/"
        },
        "id": "wPO1LGl2d6Z4",
        "outputId": "0383e294-b9b7-417b-d01a-11b44ae605d0"
      },
      "outputs": [
        {
          "output_type": "stream",
          "name": "stdout",
          "text": [
            "Bell state Phi+, 100 measurements in the Z0, Z1 basis:\n",
            "{'00': 49, '11': 51}\n",
            "Bell state Phi+, 100 measurements in the Z0, X1 basis:\n",
            "{'00': 26, '01': 23, '10': 17, '11': 34}\n"
          ]
        }
      ],
      "source": [
        "print('Bell state Phi+, 100 measurements in the Z0, Z1 basis:')\n",
        "dev = qml.device(\"default.qubit\", wires = 2, shots = 100)\n",
        "print(qml.QNode(circuit_bell_pqc, dev)(theta=0))\n",
        "\n",
        "print('Bell state Phi+, 100 measurements in the Z0, X1 basis:')\n",
        "dev = qml.device(\"default.qubit\", wires = 2, shots = 100)\n",
        "print(qml.QNode(circuit_bell_pqc, dev)(theta=np.pi/2))"
      ]
    },
    {
      "cell_type": "markdown",
      "metadata": {
        "id": "wV3a1I8cd6Z4"
      },
      "source": [
        "With theta set to $\\pi/2$, we are measuring our Bell state in two uncorrelated bases, and we expect the results to be similarly uncorrelated.\n",
        "To make a completely convincing proof, let us study the correlation between our measurements as we rotate $\\theta$."
      ]
    },
    {
      "cell_type": "code",
      "execution_count": null,
      "metadata": {
        "colab": {
          "base_uri": "https://localhost:8080/"
        },
        "id": "CHycHwv9d6Z4",
        "outputId": "93c52c2e-7397-4f1c-b368-669327322635"
      },
      "outputs": [
        {
          "output_type": "execute_result",
          "data": {
            "text/plain": [
              "{'0': 47, '1': 53}"
            ]
          },
          "metadata": {},
          "execution_count": 25
        }
      ],
      "source": [
        "dev = qml.device(\"default.qubit\", wires = 2, shots=100)\n",
        "\n",
        "@qml.qnode(dev)\n",
        "def circuit_bell_pqc(theta):\n",
        "    qml.Hadamard(wires=0)\n",
        "    qml.CNOT(wires=[0,1])\n",
        "    qml.RY(theta, wires=1)\n",
        "    return qml.sample()\n",
        "\n",
        "def correlation_function(theta):\n",
        "    samples = circuit_bell_pqc(theta)\n",
        "    correlation = []\n",
        "    for i in range(len(samples)):\n",
        "        correlation.append( 1 - (samples[i][0] ^ samples[i][1]) )\n",
        "        # Return 1 when the measurements of two qubits are the same, i.e. correlated measurement\n",
        "    return {'0': correlation.count(0), '1': correlation.count(1) }\n",
        "\n",
        "correlation_function(theta=np.pi/2) # Try different theta and see what happens"
      ]
    },
    {
      "cell_type": "markdown",
      "metadata": {
        "id": "zcMJGQo61xyG"
      },
      "source": [
        "## Sweeps\n",
        "\n",
        "A sweep is simply an iteration over a set of parameters (in the same way that one would run a for loop in classical code). We implement this using `numpy.linspace` to define the values of $\\theta$ that we want to test."
      ]
    },
    {
      "cell_type": "code",
      "execution_count": null,
      "metadata": {
        "ExecuteTime": {
          "end_time": "2020-04-11T16:48:15.711018Z",
          "start_time": "2020-04-11T16:48:12.491Z"
        },
        "id": "4Ct1BN6Y1xyG",
        "colab": {
          "base_uri": "https://localhost:8080/",
          "height": 482
        },
        "outputId": "d17a849e-7aa2-4c79-f63b-c7bf69a4c596"
      },
      "outputs": [
        {
          "output_type": "execute_result",
          "data": {
            "text/plain": [
              "<matplotlib.legend.Legend at 0x78881c3ff450>"
            ]
          },
          "metadata": {},
          "execution_count": 22
        },
        {
          "output_type": "display_data",
          "data": {
            "text/plain": [
              "<Figure size 800x500 with 1 Axes>"
            ],
            "image/png": "[encoded data removed]"
          },
          "metadata": {}
        }
      ],
      "source": [
        "# Sweeps\n",
        "theta_sweep = np.linspace(0, 2*np.pi, 101)\n",
        "\n",
        "results = np.array([correlation_function([t]) for t in theta_sweep])\n",
        "\n",
        "correlations = [result['1'] for result in results] # Number of correlated measurements as a function of theta\n",
        "\n",
        "# Let's plot the results\n",
        "from matplotlib import pyplot as plt\n",
        "%matplotlib inline\n",
        "plt.figure(figsize=(8,5))\n",
        "plt.plot(theta_sweep, correlations, label='Results from 100 measurements')\n",
        "plt.xlabel('Angle between measurement bases', fontsize=10)\n",
        "plt.ylabel('Number of correlated measurements observed', fontsize=10)\n",
        "plt.plot(theta_sweep, 50 * (np.cos(theta_sweep) + 1), '--',\n",
        "         label='Expected average')\n",
        "plt.legend(fontsize=10)"
      ]
    },
    {
      "cell_type": "markdown",
      "metadata": {
        "id": "m5C7-toa1xyG"
      },
      "source": [
        "We see that the resulting curve has quite some sampling noise, but it follows the expected value.\n",
        "\n",
        "**Exercise 4:** extend the above experiment to demonstrate that if qubit 0 is rotated by $R_y(\\theta_0)$ and qubit 1 is rotated by $R_y(\\theta_1)$ prior to measurement, the correlation between measurements is independent of $\\theta_0-\\theta_1$."
      ]
    },
    {
      "cell_type": "code",
      "execution_count": null,
      "metadata": {
        "id": "qiuU9Nr8d6Z4",
        "colab": {
          "base_uri": "https://localhost:8080/",
          "height": 486
        },
        "outputId": "aea2e6c7-3201-4251-bf1c-5ba118929240"
      },
      "outputs": [
        {
          "output_type": "execute_result",
          "data": {
            "text/plain": [
              "Text(0, 0.5, 'Measurement basis angle for second qubit $\\\\theta_1$')"
            ]
          },
          "metadata": {},
          "execution_count": 6
        },
        {
          "output_type": "display_data",
          "data": {
            "text/plain": [
              "<Figure size 500x500 with 1 Axes>"
            ],
            "image/png": "[encoded data removed]"
          },
          "metadata": {}
        }
      ],
      "source": [
        "### Insert your code here!\n",
        "\n",
        "dev = qml.device(\"default.qubit\", wires = 2, shots=100)\n",
        "\n",
        "@qml.qnode(dev)\n",
        "def circuit_bell_pqc(theta0, theta1):\n",
        "    qml.Hadamard(wires=0)\n",
        "    qml.CNOT(wires=[0,1])\n",
        "    qml.RY(theta0, wires=0)\n",
        "    qml.RY(theta1, wires=1)\n",
        "    return qml.sample()\n",
        "\n",
        "def correlation_function(theta0, theta1):\n",
        "    samples = circuit_bell_pqc(theta0, theta1)\n",
        "    correlation = []\n",
        "    for i in range(len(samples)):\n",
        "        correlation.append( 1 - (samples[i][0] ^ samples[i][1]) )\n",
        "        # Return 1 when the measurements of two qubits are the same, i.e. correlated measurement\n",
        "    return correlation.count(1)\n",
        "\n",
        "# Sweeps for both theta0 and theta1\n",
        "theta0_sweep = np.linspace(0, 2 * np.pi, 51)\n",
        "theta1_sweep = np.linspace(0, 2 * np.pi, 51)\n",
        "\n",
        "# Create a meshgrid for theta0_sweep and theta1_sweep\n",
        "theta0_grid, theta1_grid = np.meshgrid(theta0_sweep, theta1_sweep)\n",
        "correlations = np.array([correlation_function(t0, t1) for t0, t1 in zip(theta0_grid.ravel(), theta1_grid.ravel())])\n",
        "correlations = correlations.reshape(theta0_grid.shape) # Reshape the results array back into a 2D array\n",
        "\n",
        "# Let's plot the results\n",
        "import matplotlib.pyplot as plt\n",
        "plt.figure(figsize=(5,5))\n",
        "plt.pcolormesh(theta0_sweep, theta1_sweep, correlations)\n",
        "# plt.plot(theta0_sweep+theta1_sweep, correlations)\n",
        "plt.xlabel(r'Measurement basis angle for first qubit $\\theta_0$', fontsize=10)\n",
        "plt.ylabel(r'Measurement basis angle for second qubit $\\theta_1$', fontsize=10)\n"
      ]
    },
    {
      "cell_type": "markdown",
      "metadata": {
        "id": "RLINgfLB1xyG"
      },
      "source": [
        "# Quantum teleportation\n",
        "One of the most famous quantum effects is that of teleportation, where the state from one qubit may be transmitted to the state of another qubit non-locally. Details of this may be found on Wikipedia, or in Nielsen and Chuang.\n",
        "\n",
        "To begin, we need to prepare a Bell state on two qubits, and prepare a state to be teleported.\n",
        "\n",
        "**Exercise 5:** Create a three-qubit circuit on a linear array that performs an arbitrary $R_y(\\theta)$ rotation on qubit 0, and that prepares a Bell state on qubits 1 and 2. Visualize the circuit."
      ]
    },
    {
      "cell_type": "code",
      "execution_count": null,
      "metadata": {
        "id": "VoxCBM_Sd6Z5"
      },
      "outputs": [],
      "source": [
        "### Insert your code here!\n",
        "\n",
        "def preparation_pqc(theta):\n",
        "   '''\n",
        "   '''"
      ]
    },
    {
      "cell_type": "markdown",
      "metadata": {
        "id": "cmNA0Ism1xyH"
      },
      "source": [
        "The teleportation circuit requires entangling qubit 0 and 1 via a CNOT gate, then reading qubit 0 in the X basis and qubit 1 in the Z basis.\n",
        "The output of these two measurements will be used to control the application of future quantum gates on qubit 2.\n",
        "This is known as mid-circuit measurement, and such mid-circuit measurements are expressed in PennyLane using `qml.measure`.\n",
        "\n",
        "**Exercise 6:** Regard the circuitry above as a subcircuit. Write it as a quantum function (use mid-circuit measurement), and put it together with the circuit you wrote in Exercise 5.\n",
        "Visualize the result with a symbolic parameter.\n",
        "\n",
        "*Note: In Pennylane, Quantum functions that do not return anything can be used as subcircuits—smaller pieces that build up to a larger circuit."
      ]
    },
    {
      "cell_type": "code",
      "execution_count": null,
      "metadata": {
        "ExecuteTime": {
          "end_time": "2020-04-11T16:48:15.713243Z",
          "start_time": "2020-04-11T16:48:12.496Z"
        },
        "id": "hWwkHtC01xyH"
      },
      "outputs": [],
      "source": [
        "### Insert your code here!\n"
      ]
    },
    {
      "cell_type": "markdown",
      "metadata": {
        "id": "wMWO9DWA1xyH"
      },
      "source": [
        "The final part of the teleportation circuit requires performing single qubit rotations on qubit 2, depending on the output of the two mid-circuit measurements.\n",
        "The mid-circuit measurements results can be used to control operations, and it is expressed in PennyLane using `qml.cond` (see https://docs.pennylane.ai/en/stable/code/api/pennylane.cond.html).\n",
        "\n",
        "(Note that the correction gates can also be controlled by the post-measurement state of the qubit 0 and 1 instead of classically by the measurement result. You can also try to use `qml.CX` and `qml.CZ` to finish the circuit!)"
      ]
    },
    {
      "cell_type": "code",
      "execution_count": null,
      "metadata": {
        "ExecuteTime": {
          "end_time": "2020-04-11T16:48:15.714236Z",
          "start_time": "2020-04-11T16:48:12.498Z"
        },
        "colab": {
          "base_uri": "https://localhost:8080/",
          "height": 553
        },
        "id": "NvZCIf071xyH",
        "outputId": "1774b270-45d0-4e65-9328-2decbfc13e48"
      },
      "outputs": [
        {
          "output_type": "execute_result",
          "data": {
            "text/plain": [
              "(<Figure size 900x500 with 1 Axes>, <Axes: >)"
            ]
          },
          "metadata": {},
          "execution_count": 26
        },
        {
          "output_type": "display_data",
          "data": {
            "text/plain": [
              "<Figure size 900x500 with 1 Axes>"
            ],
            "image/png": "[encoded data removed]"
          },
          "metadata": {}
        }
      ],
      "source": [
        "def mid_measurement_and_correction():\n",
        "    qml.CNOT(wires=[0,1])\n",
        "    qml.Hadamard(wires=0) # To effectively measure qubit 0 in the X basis\n",
        "    m0 = qml.measure(wires=0) # Measure the first qubits using mid-circuit measurement\n",
        "    m1 = qml.measure(wires=1) # Measure the second qubits mid-circuit measurement\n",
        "\n",
        "    qml.cond(m1, qml.PauliX)(wires=2)\n",
        "    qml.cond(m0, qml.PauliZ)(wires=2)\n",
        "\n",
        "\n",
        "# Combine the subcircuits togther\n",
        "dev = qml.device(\"default.qubit\", wires = 3)\n",
        "@qml.qnode(dev)\n",
        "def full_teleportation_circuit(theta):\n",
        "    preparation_pqc(theta)\n",
        "    mid_measurement_and_correction()\n",
        "\n",
        "qml.drawer.use_style(style='pennylane')\n",
        "qml.drawer.draw_mpl(full_teleportation_circuit)(0)"
      ]
    },
    {
      "cell_type": "markdown",
      "metadata": {
        "id": "Ef9xNpNn1xyH"
      },
      "source": [
        "To test the teleportation, let us check the result of measuring qubit 2 in the Z basis as we change the prepared state by altering the angle $\\theta$.\n",
        "\n",
        "**Exercise 7:** Add a measurement of qubit 2 in the Z basis using `qml.sample()`, and plot the result of these measurements as you sweep over $\\theta$."
      ]
    },
    {
      "cell_type": "code",
      "execution_count": null,
      "metadata": {
        "ExecuteTime": {
          "end_time": "2020-04-11T16:48:15.715646Z",
          "start_time": "2020-04-11T16:48:12.500Z"
        },
        "id": "Sso3netJ1xyH"
      },
      "outputs": [],
      "source": [
        "### Insert your code here!\n",
        "\n"
      ]
    }
  ],
  "metadata": {
    "colab": {
      "provenance": [],
      "include_colab_link": true
    },
    "hide_input": false,
    "kernelspec": {
      "display_name": "QML",
      "language": "python",
      "name": "python3"
    },
    "language_info": {
      "codemirror_mode": {
        "name": "ipython",
        "version": 3
      },
      "file_extension": ".py",
      "mimetype": "text/x-python",
      "name": "python",
      "nbconvert_exporter": "python",
      "pygments_lexer": "ipython3",
      "version": "3.9.21"
    },
    "toc": {
      "base_numbering": 1,
      "nav_menu": {},
      "number_sections": true,
      "sideBar": true,
      "skip_h1_title": false,
      "title_cell": "Table of Contents",
      "title_sidebar": "Contents",
      "toc_cell": false,
      "toc_position": {},
      "toc_section_display": true,
      "toc_window_display": false
    },
    "varInspector": {
      "cols": {
        "lenName": 16,
        "lenType": 16,
        "lenVar": 40
      },
      "kernels_config": {
        "python": {
          "delete_cmd_postfix": "",
          "delete_cmd_prefix": "del ",
          "library": "var_list.py",
          "varRefreshCmd": "print(var_dic_list())"
        },
        "r": {
          "delete_cmd_postfix": ") ",
          "delete_cmd_prefix": "rm(",
          "library": "var_list.r",
          "varRefreshCmd": "cat(var_dic_list()) "
        }
      },
      "types_to_exclude": [
        "module",
        "function",
        "builtin_function_or_method",
        "instance",
        "_Feature"
      ],
      "window_display": false
    }
  },
  "nbformat": 4,
  "nbformat_minor": 0
}